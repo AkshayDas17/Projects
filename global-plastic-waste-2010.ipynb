{
 "cells": [
  {
   "cell_type": "markdown",
   "id": "211c673e-5bbd-45d6-b9de-9256534b0568",
   "metadata": {},
   "source": [
    "## Importing dependencies"
   ]
  },
  {
   "cell_type": "code",
   "execution_count": 1,
   "id": "outdoor-click",
   "metadata": {
    "papermill": {
     "duration": 0.882218,
     "end_time": "2021-06-24T10:17:40.099194",
     "exception": false,
     "start_time": "2021-06-24T10:17:39.216976",
     "status": "completed"
    },
    "tags": []
   },
   "outputs": [],
   "source": [
    "import pandas as pd\n",
    "import numpy as np\n",
    "import seaborn as sns\n",
    "import matplotlib.pyplot as plt"
   ]
  },
  {
   "cell_type": "markdown",
   "id": "subsequent-peoples",
   "metadata": {
    "papermill": {
     "duration": 0.021305,
     "end_time": "2021-06-24T10:17:40.142877",
     "exception": false,
     "start_time": "2021-06-24T10:17:40.121572",
     "status": "completed"
    },
    "tags": []
   },
   "source": [
    "### Following is a dataset containing plastic waste per person in Kg/day"
   ]
  },
  {
   "cell_type": "code",
   "execution_count": 2,
   "id": "ceramic-newport",
   "metadata": {
    "papermill": {
     "duration": 0.091718,
     "end_time": "2021-06-24T10:17:40.254878",
     "exception": false,
     "start_time": "2021-06-24T10:17:40.163160",
     "status": "completed"
    },
    "tags": []
   },
   "outputs": [],
   "source": [
    "plastic = pd.read_csv('per-capita-plastic-waste-vs-gdp-per-capita.csv')"
   ]
  },
  {
   "cell_type": "code",
   "execution_count": 3,
   "id": "1ed2807f-fd7a-4e97-a7cc-e2bde0a53da9",
   "metadata": {},
   "outputs": [
    {
     "data": {
      "text/html": [
       "<div>\n",
       "<style scoped>\n",
       "    .dataframe tbody tr th:only-of-type {\n",
       "        vertical-align: middle;\n",
       "    }\n",
       "\n",
       "    .dataframe tbody tr th {\n",
       "        vertical-align: top;\n",
       "    }\n",
       "\n",
       "    .dataframe thead th {\n",
       "        text-align: right;\n",
       "    }\n",
       "</style>\n",
       "<table border=\"1\" class=\"dataframe\">\n",
       "  <thead>\n",
       "    <tr style=\"text-align: right;\">\n",
       "      <th></th>\n",
       "      <th>Entity</th>\n",
       "      <th>Code</th>\n",
       "      <th>Year</th>\n",
       "      <th>Per capita plastic waste (kg/person/day)</th>\n",
       "      <th>GDP per capita, PPP (constant 2011 international $)</th>\n",
       "      <th>Total population (Gapminder, HYDE &amp; UN)</th>\n",
       "      <th>Continent</th>\n",
       "    </tr>\n",
       "  </thead>\n",
       "  <tbody>\n",
       "    <tr>\n",
       "      <th>0</th>\n",
       "      <td>Abkhazia</td>\n",
       "      <td>OWID_ABK</td>\n",
       "      <td>2015</td>\n",
       "      <td>NaN</td>\n",
       "      <td>NaN</td>\n",
       "      <td>NaN</td>\n",
       "      <td>Asia</td>\n",
       "    </tr>\n",
       "    <tr>\n",
       "      <th>1</th>\n",
       "      <td>Afghanistan</td>\n",
       "      <td>AFG</td>\n",
       "      <td>2002</td>\n",
       "      <td>NaN</td>\n",
       "      <td>1063.635574</td>\n",
       "      <td>22601000.0</td>\n",
       "      <td>NaN</td>\n",
       "    </tr>\n",
       "    <tr>\n",
       "      <th>2</th>\n",
       "      <td>Afghanistan</td>\n",
       "      <td>AFG</td>\n",
       "      <td>2003</td>\n",
       "      <td>NaN</td>\n",
       "      <td>1099.194507</td>\n",
       "      <td>23681000.0</td>\n",
       "      <td>NaN</td>\n",
       "    </tr>\n",
       "    <tr>\n",
       "      <th>3</th>\n",
       "      <td>Afghanistan</td>\n",
       "      <td>AFG</td>\n",
       "      <td>2004</td>\n",
       "      <td>NaN</td>\n",
       "      <td>1062.249360</td>\n",
       "      <td>24727000.0</td>\n",
       "      <td>NaN</td>\n",
       "    </tr>\n",
       "    <tr>\n",
       "      <th>4</th>\n",
       "      <td>Afghanistan</td>\n",
       "      <td>AFG</td>\n",
       "      <td>2005</td>\n",
       "      <td>NaN</td>\n",
       "      <td>1136.123214</td>\n",
       "      <td>25654000.0</td>\n",
       "      <td>NaN</td>\n",
       "    </tr>\n",
       "  </tbody>\n",
       "</table>\n",
       "</div>"
      ],
      "text/plain": [
       "        Entity      Code  Year  Per capita plastic waste (kg/person/day)  \\\n",
       "0     Abkhazia  OWID_ABK  2015                                       NaN   \n",
       "1  Afghanistan       AFG  2002                                       NaN   \n",
       "2  Afghanistan       AFG  2003                                       NaN   \n",
       "3  Afghanistan       AFG  2004                                       NaN   \n",
       "4  Afghanistan       AFG  2005                                       NaN   \n",
       "\n",
       "   GDP per capita, PPP (constant 2011 international $)  \\\n",
       "0                                                NaN     \n",
       "1                                        1063.635574     \n",
       "2                                        1099.194507     \n",
       "3                                        1062.249360     \n",
       "4                                        1136.123214     \n",
       "\n",
       "   Total population (Gapminder, HYDE & UN) Continent  \n",
       "0                                      NaN      Asia  \n",
       "1                               22601000.0       NaN  \n",
       "2                               23681000.0       NaN  \n",
       "3                               24727000.0       NaN  \n",
       "4                               25654000.0       NaN  "
      ]
     },
     "execution_count": 3,
     "metadata": {},
     "output_type": "execute_result"
    }
   ],
   "source": [
    "plastic.head()"
   ]
  },
  {
   "cell_type": "code",
   "execution_count": 4,
   "id": "logical-button",
   "metadata": {
    "papermill": {
     "duration": 0.034599,
     "end_time": "2021-06-24T10:17:40.310610",
     "exception": false,
     "start_time": "2021-06-24T10:17:40.276011",
     "status": "completed"
    },
    "tags": []
   },
   "outputs": [],
   "source": [
    "#Rename the lengthy named columns\n",
    "plastic.columns\n",
    "plastic.rename(columns={'Per capita plastic waste (kg/person/day)': 'Waste per person(kg/day)',\n",
    "                   'GDP per capita, PPP (constant 2011 international $)': 'GDP per capita', \n",
    "                   'Total population (Gapminder, HYDE & UN)': 'Total Population'}, inplace=True)"
   ]
  },
  {
   "cell_type": "code",
   "execution_count": 5,
   "id": "threaded-preference",
   "metadata": {
    "papermill": {
     "duration": 0.038642,
     "end_time": "2021-06-24T10:17:40.368992",
     "exception": false,
     "start_time": "2021-06-24T10:17:40.330350",
     "status": "completed"
    },
    "tags": []
   },
   "outputs": [],
   "source": [
    "# removing entities/countries with incomplete/missing data\n",
    "incomplete_data_index = plastic[(plastic['Total Population'].isna()) & (plastic['GDP per capita'].isna())].index\n",
    "plastic.drop(incomplete_data_index, inplace=True)"
   ]
  },
  {
   "cell_type": "code",
   "execution_count": 6,
   "id": "solar-terry",
   "metadata": {
    "papermill": {
     "duration": 0.046982,
     "end_time": "2021-06-24T10:17:40.435519",
     "exception": false,
     "start_time": "2021-06-24T10:17:40.388537",
     "status": "completed"
    },
    "tags": []
   },
   "outputs": [],
   "source": [
    "# new dataframe that takes in the required data (by year 2010)\n",
    "data = plastic[plastic['Year'] == 2010]\n",
    "data = data.drop(columns='Continent')"
   ]
  },
  {
   "cell_type": "code",
   "execution_count": 7,
   "id": "toxic-sheriff",
   "metadata": {
    "papermill": {
     "duration": 0.029318,
     "end_time": "2021-06-24T10:17:40.484792",
     "exception": false,
     "start_time": "2021-06-24T10:17:40.455474",
     "status": "completed"
    },
    "tags": []
   },
   "outputs": [],
   "source": [
    "# retrieving continent names (from 2015 data)\n",
    "con_names = plastic[plastic['Year'] == 2015]\n",
    "data['Continent'] = con_names['Continent'].values"
   ]
  },
  {
   "cell_type": "code",
   "execution_count": 8,
   "id": "alive-register",
   "metadata": {
    "papermill": {
     "duration": 0.031664,
     "end_time": "2021-06-24T10:17:40.536153",
     "exception": false,
     "start_time": "2021-06-24T10:17:40.504489",
     "status": "completed"
    },
    "tags": []
   },
   "outputs": [],
   "source": [
    "# dropping rows with missing Continent values using index\n",
    "miss_index = data[data['Continent'].isna()].index\n",
    "data.drop(miss_index, inplace=True)"
   ]
  },
  {
   "cell_type": "code",
   "execution_count": 9,
   "id": "monetary-madrid",
   "metadata": {
    "papermill": {
     "duration": 0.031323,
     "end_time": "2021-06-24T10:17:40.587368",
     "exception": false,
     "start_time": "2021-06-24T10:17:40.556045",
     "status": "completed"
    },
    "tags": []
   },
   "outputs": [],
   "source": [
    "# dropping rows with missing per person waste generation values\n",
    "data = data[data['Waste per person(kg/day)'].notna()]\n",
    "\n",
    "waste_gener = data.reset_index().drop('index', axis=1)"
   ]
  },
  {
   "cell_type": "code",
   "execution_count": 10,
   "id": "equal-marking",
   "metadata": {
    "papermill": {
     "duration": 0.045953,
     "end_time": "2021-06-24T10:17:40.652713",
     "exception": false,
     "start_time": "2021-06-24T10:17:40.606760",
     "status": "completed"
    },
    "tags": []
   },
   "outputs": [
    {
     "data": {
      "text/html": [
       "<div>\n",
       "<style scoped>\n",
       "    .dataframe tbody tr th:only-of-type {\n",
       "        vertical-align: middle;\n",
       "    }\n",
       "\n",
       "    .dataframe tbody tr th {\n",
       "        vertical-align: top;\n",
       "    }\n",
       "\n",
       "    .dataframe thead th {\n",
       "        text-align: right;\n",
       "    }\n",
       "</style>\n",
       "<table border=\"1\" class=\"dataframe\">\n",
       "  <thead>\n",
       "    <tr style=\"text-align: right;\">\n",
       "      <th></th>\n",
       "      <th>Entity</th>\n",
       "      <th>Code</th>\n",
       "      <th>Year</th>\n",
       "      <th>Waste per person(kg/day)</th>\n",
       "      <th>GDP per capita</th>\n",
       "      <th>Total Population</th>\n",
       "      <th>Continent</th>\n",
       "    </tr>\n",
       "  </thead>\n",
       "  <tbody>\n",
       "    <tr>\n",
       "      <th>0</th>\n",
       "      <td>Albania</td>\n",
       "      <td>ALB</td>\n",
       "      <td>2010</td>\n",
       "      <td>0.069</td>\n",
       "      <td>9927.181841</td>\n",
       "      <td>2948000.0</td>\n",
       "      <td>Europe</td>\n",
       "    </tr>\n",
       "    <tr>\n",
       "      <th>1</th>\n",
       "      <td>Algeria</td>\n",
       "      <td>DZA</td>\n",
       "      <td>2010</td>\n",
       "      <td>0.144</td>\n",
       "      <td>12870.602699</td>\n",
       "      <td>35977000.0</td>\n",
       "      <td>Africa</td>\n",
       "    </tr>\n",
       "    <tr>\n",
       "      <th>2</th>\n",
       "      <td>Angola</td>\n",
       "      <td>AGO</td>\n",
       "      <td>2010</td>\n",
       "      <td>0.062</td>\n",
       "      <td>5897.682841</td>\n",
       "      <td>23356000.0</td>\n",
       "      <td>Africa</td>\n",
       "    </tr>\n",
       "    <tr>\n",
       "      <th>3</th>\n",
       "      <td>Anguilla</td>\n",
       "      <td>AIA</td>\n",
       "      <td>2010</td>\n",
       "      <td>0.252</td>\n",
       "      <td>NaN</td>\n",
       "      <td>13000.0</td>\n",
       "      <td>North America</td>\n",
       "    </tr>\n",
       "    <tr>\n",
       "      <th>4</th>\n",
       "      <td>Antigua and Barbuda</td>\n",
       "      <td>ATG</td>\n",
       "      <td>2010</td>\n",
       "      <td>0.660</td>\n",
       "      <td>19212.720131</td>\n",
       "      <td>88000.0</td>\n",
       "      <td>North America</td>\n",
       "    </tr>\n",
       "  </tbody>\n",
       "</table>\n",
       "</div>"
      ],
      "text/plain": [
       "                Entity Code  Year  Waste per person(kg/day)  GDP per capita  \\\n",
       "0              Albania  ALB  2010                     0.069     9927.181841   \n",
       "1              Algeria  DZA  2010                     0.144    12870.602699   \n",
       "2               Angola  AGO  2010                     0.062     5897.682841   \n",
       "3             Anguilla  AIA  2010                     0.252             NaN   \n",
       "4  Antigua and Barbuda  ATG  2010                     0.660    19212.720131   \n",
       "\n",
       "   Total Population      Continent  \n",
       "0         2948000.0         Europe  \n",
       "1        35977000.0         Africa  \n",
       "2        23356000.0         Africa  \n",
       "3           13000.0  North America  \n",
       "4           88000.0  North America  "
      ]
     },
     "execution_count": 10,
     "metadata": {},
     "output_type": "execute_result"
    }
   ],
   "source": [
    "waste_gener.head()"
   ]
  },
  {
   "cell_type": "markdown",
   "id": "personal-colon",
   "metadata": {
    "papermill": {
     "duration": 0.020207,
     "end_time": "2021-06-24T10:17:40.693783",
     "exception": false,
     "start_time": "2021-06-24T10:17:40.673576",
     "status": "completed"
    },
    "tags": []
   },
   "source": [
    "### Following is a dataset containing mismanaged plastic waste per person in Kg/day"
   ]
  },
  {
   "cell_type": "code",
   "execution_count": 11,
   "id": "informal-sherman",
   "metadata": {
    "papermill": {
     "duration": 0.080885,
     "end_time": "2021-06-24T10:17:40.795337",
     "exception": false,
     "start_time": "2021-06-24T10:17:40.714452",
     "status": "completed"
    },
    "tags": []
   },
   "outputs": [],
   "source": [
    "plastic_2 = pd.read_csv('per-capita-mismanaged-plastic-waste-vs-gdp-per-capita.csv')"
   ]
  },
  {
   "cell_type": "code",
   "execution_count": 12,
   "id": "stable-compiler",
   "metadata": {
    "papermill": {
     "duration": 0.031501,
     "end_time": "2021-06-24T10:17:40.847055",
     "exception": false,
     "start_time": "2021-06-24T10:17:40.815554",
     "status": "completed"
    },
    "tags": []
   },
   "outputs": [],
   "source": [
    "plastic_2.rename(columns={'Per capita mismanaged plastic waste': 'Mismanaged waste per person(kg/day)',\n",
    "                     'GDP per capita, PPP (constant 2011 international $)': 'GDP per capita in PPP',\n",
    "                     'Total population (Gapminder, HYDE & UN)': 'Total Population'}, inplace=True)\n",
    "plastic_2.drop('Continent', axis=1, inplace=True)"
   ]
  },
  {
   "cell_type": "code",
   "execution_count": 13,
   "id": "optional-dairy",
   "metadata": {
    "papermill": {
     "duration": 0.029123,
     "end_time": "2021-06-24T10:17:40.896176",
     "exception": false,
     "start_time": "2021-06-24T10:17:40.867053",
     "status": "completed"
    },
    "tags": []
   },
   "outputs": [],
   "source": [
    "# new dataframe for the required data\n",
    "data2 = plastic_2[plastic_2['Year'] == 2010]"
   ]
  },
  {
   "cell_type": "code",
   "execution_count": 14,
   "id": "great-israeli",
   "metadata": {
    "papermill": {
     "duration": 0.032331,
     "end_time": "2021-06-24T10:17:40.949410",
     "exception": false,
     "start_time": "2021-06-24T10:17:40.917079",
     "status": "completed"
    },
    "tags": []
   },
   "outputs": [],
   "source": [
    "# dropping rows with missing mismanaged waste values\n",
    "data2 = data2[data2['Mismanaged waste per person(kg/day)'].isna() != True]\n",
    "\n",
    "waste_misma = data2.reset_index().drop('index', axis=1)"
   ]
  },
  {
   "cell_type": "code",
   "execution_count": 15,
   "id": "orange-chorus",
   "metadata": {
    "papermill": {
     "duration": 0.039989,
     "end_time": "2021-06-24T10:17:41.010042",
     "exception": false,
     "start_time": "2021-06-24T10:17:40.970053",
     "status": "completed"
    },
    "tags": []
   },
   "outputs": [],
   "source": [
    "# joining both the dataframes\n",
    "plastic_waste = pd.merge(waste_gener, waste_misma, how='inner')"
   ]
  },
  {
   "cell_type": "code",
   "execution_count": 16,
   "id": "fiscal-acoustic",
   "metadata": {
    "papermill": {
     "duration": 0.03622,
     "end_time": "2021-06-24T10:17:41.066682",
     "exception": false,
     "start_time": "2021-06-24T10:17:41.030462",
     "status": "completed"
    },
    "tags": []
   },
   "outputs": [],
   "source": [
    "# rearranging columns in the dataframe\n",
    "plastic_waste.columns.tolist()\n",
    "col_list = ['Entity','Code','Year','Waste per person(kg/day)','Mismanaged waste per person(kg/day)',\n",
    "           'GDP per capita in PPP','Total Population','Continent']\n",
    "plastic_waste = plastic_waste[col_list]\n",
    "\n",
    "# rounding the values per person\n",
    "plastic_waste.iloc[:, 3:5] = np.around(plastic_waste[['Waste per person(kg/day)', \n",
    "                                                      'Mismanaged waste per person(kg/day)']], decimals=2)\n",
    "\n",
    "# changing datatype\n",
    "plastic_waste['Total Population'] = plastic_waste['Total Population'].astype(int)"
   ]
  },
  {
   "cell_type": "markdown",
   "id": "liquid-portugal",
   "metadata": {
    "papermill": {
     "duration": 0.020545,
     "end_time": "2021-06-24T10:17:41.106974",
     "exception": false,
     "start_time": "2021-06-24T10:17:41.086429",
     "status": "completed"
    },
    "tags": []
   },
   "source": [
    "### Generating Total waste and Total mismanaged waste by country<br>\n",
    "<ul><li>Total waste is achieved by using the product of waste generated per person per day and the total population of that country.</li><br>\n",
    "<li>Total mismanaged waste is achieved by using the product of mismanaged waste per person a day and the total population of that country.</li></ul><br>\n",
    "\n",
    "<i>Both are then multiplied by 365 to get the value for a year.</i>"
   ]
  },
  {
   "cell_type": "code",
   "execution_count": 17,
   "id": "surprising-optimum",
   "metadata": {
    "papermill": {
     "duration": 0.046093,
     "end_time": "2021-06-24T10:17:41.173084",
     "exception": false,
     "start_time": "2021-06-24T10:17:41.126991",
     "status": "completed"
    },
    "tags": []
   },
   "outputs": [
    {
     "data": {
      "text/html": [
       "<div>\n",
       "<style scoped>\n",
       "    .dataframe tbody tr th:only-of-type {\n",
       "        vertical-align: middle;\n",
       "    }\n",
       "\n",
       "    .dataframe tbody tr th {\n",
       "        vertical-align: top;\n",
       "    }\n",
       "\n",
       "    .dataframe thead th {\n",
       "        text-align: right;\n",
       "    }\n",
       "</style>\n",
       "<table border=\"1\" class=\"dataframe\">\n",
       "  <thead>\n",
       "    <tr style=\"text-align: right;\">\n",
       "      <th></th>\n",
       "      <th>Entity</th>\n",
       "      <th>Code</th>\n",
       "      <th>Year</th>\n",
       "      <th>Waste per person(kg/day)</th>\n",
       "      <th>Mismanaged waste per person(kg/day)</th>\n",
       "      <th>GDP per capita in PPP</th>\n",
       "      <th>Total Population</th>\n",
       "      <th>Continent</th>\n",
       "      <th>Total waste(kgs/year)</th>\n",
       "      <th>Total waste mismanaged(kgs/year)</th>\n",
       "    </tr>\n",
       "  </thead>\n",
       "  <tbody>\n",
       "    <tr>\n",
       "      <th>0</th>\n",
       "      <td>Albania</td>\n",
       "      <td>ALB</td>\n",
       "      <td>2010</td>\n",
       "      <td>0.07</td>\n",
       "      <td>0.03</td>\n",
       "      <td>9927.181841</td>\n",
       "      <td>2948000</td>\n",
       "      <td>Europe</td>\n",
       "      <td>7.532140e+07</td>\n",
       "      <td>3.228060e+07</td>\n",
       "    </tr>\n",
       "    <tr>\n",
       "      <th>1</th>\n",
       "      <td>Algeria</td>\n",
       "      <td>DZA</td>\n",
       "      <td>2010</td>\n",
       "      <td>0.14</td>\n",
       "      <td>0.09</td>\n",
       "      <td>12870.602699</td>\n",
       "      <td>35977000</td>\n",
       "      <td>Africa</td>\n",
       "      <td>1.838425e+09</td>\n",
       "      <td>1.181844e+09</td>\n",
       "    </tr>\n",
       "    <tr>\n",
       "      <th>2</th>\n",
       "      <td>Angola</td>\n",
       "      <td>AGO</td>\n",
       "      <td>2010</td>\n",
       "      <td>0.06</td>\n",
       "      <td>0.04</td>\n",
       "      <td>5897.682841</td>\n",
       "      <td>23356000</td>\n",
       "      <td>Africa</td>\n",
       "      <td>5.114964e+08</td>\n",
       "      <td>3.409976e+08</td>\n",
       "    </tr>\n",
       "    <tr>\n",
       "      <th>3</th>\n",
       "      <td>Anguilla</td>\n",
       "      <td>AIA</td>\n",
       "      <td>2010</td>\n",
       "      <td>0.25</td>\n",
       "      <td>0.01</td>\n",
       "      <td>NaN</td>\n",
       "      <td>13000</td>\n",
       "      <td>North America</td>\n",
       "      <td>1.186250e+06</td>\n",
       "      <td>4.745000e+04</td>\n",
       "    </tr>\n",
       "    <tr>\n",
       "      <th>4</th>\n",
       "      <td>Antigua and Barbuda</td>\n",
       "      <td>ATG</td>\n",
       "      <td>2010</td>\n",
       "      <td>0.66</td>\n",
       "      <td>0.05</td>\n",
       "      <td>19212.720131</td>\n",
       "      <td>88000</td>\n",
       "      <td>North America</td>\n",
       "      <td>2.119920e+07</td>\n",
       "      <td>1.606000e+06</td>\n",
       "    </tr>\n",
       "  </tbody>\n",
       "</table>\n",
       "</div>"
      ],
      "text/plain": [
       "                Entity Code  Year  Waste per person(kg/day)  \\\n",
       "0              Albania  ALB  2010                      0.07   \n",
       "1              Algeria  DZA  2010                      0.14   \n",
       "2               Angola  AGO  2010                      0.06   \n",
       "3             Anguilla  AIA  2010                      0.25   \n",
       "4  Antigua and Barbuda  ATG  2010                      0.66   \n",
       "\n",
       "   Mismanaged waste per person(kg/day)  GDP per capita in PPP  \\\n",
       "0                                 0.03            9927.181841   \n",
       "1                                 0.09           12870.602699   \n",
       "2                                 0.04            5897.682841   \n",
       "3                                 0.01                    NaN   \n",
       "4                                 0.05           19212.720131   \n",
       "\n",
       "   Total Population      Continent  Total waste(kgs/year)  \\\n",
       "0           2948000         Europe           7.532140e+07   \n",
       "1          35977000         Africa           1.838425e+09   \n",
       "2          23356000         Africa           5.114964e+08   \n",
       "3             13000  North America           1.186250e+06   \n",
       "4             88000  North America           2.119920e+07   \n",
       "\n",
       "   Total waste mismanaged(kgs/year)  \n",
       "0                      3.228060e+07  \n",
       "1                      1.181844e+09  \n",
       "2                      3.409976e+08  \n",
       "3                      4.745000e+04  \n",
       "4                      1.606000e+06  "
      ]
     },
     "execution_count": 17,
     "metadata": {},
     "output_type": "execute_result"
    }
   ],
   "source": [
    "plastic_waste['Total waste(kgs/year)'] = ((plastic_waste['Waste per person(kg/day)'] * \n",
    "                                    plastic_waste['Total Population']) * 365)\n",
    "plastic_waste['Total waste mismanaged(kgs/year)'] = ((plastic_waste['Mismanaged waste per person(kg/day)'] * \n",
    "                                    plastic_waste['Total Population']) * 365)\n",
    "\n",
    "\n",
    "plastic_waste.head()"
   ]
  },
  {
   "cell_type": "markdown",
   "id": "affecting-lawrence",
   "metadata": {
    "papermill": {
     "duration": 0.020883,
     "end_time": "2021-06-24T10:17:41.214824",
     "exception": false,
     "start_time": "2021-06-24T10:17:41.193941",
     "status": "completed"
    },
    "tags": []
   },
   "source": [
    "### Following graphs (Figure 1 & 2) shows the relationship between:<br>\n",
    "####  1. Mismanaged waste & GDP\n",
    "####  2. Waste Generated & GDP<br>\n",
    "\n",
    "<b><i>Two Hypotheses were made</i></b>, proposing a relation between the GDP and waste generated/waste mismanaged per person a day.<br>\n",
    "\n",
    "   <ol><li>More the GDP per Capita of an entity more would be the waste mismanaged per person.</li><br>\n",
    "   <li>More the GDP per Capita of an enity more would be the waste generation per person.</li></ol>"
   ]
  },
  {
   "cell_type": "code",
   "execution_count": 18,
   "id": "critical-nitrogen",
   "metadata": {
    "papermill": {
     "duration": 0.386772,
     "end_time": "2021-06-24T10:17:41.622722",
     "exception": false,
     "start_time": "2021-06-24T10:17:41.235950",
     "status": "completed"
    },
    "tags": []
   },
   "outputs": [
    {
     "data": {
      "image/png": "[encoded data removed]",
      "text/plain": [
       "<Figure size 432x288 with 1 Axes>"
      ]
     },
     "metadata": {
      "needs_background": "light"
     },
     "output_type": "display_data"
    }
   ],
   "source": [
    "\n",
    "\n",
    "plt.scatter(plastic_waste['GDP per capita in PPP'], plastic_waste['Mismanaged waste per person(kg/day)'])\n",
    "plt.title('Waste Mismanaged by GDP', loc='center')\n",
    "plt.ylabel('Mismanaged waste per person(kg/day)')\n",
    "plt.xlabel('GDP per capita in PPP')\n",
    "\n",
    "sns.regplot(x='GDP per capita in PPP', y='Mismanaged waste per person(kg/day)', data=plastic_waste,\n",
    "           scatter_kws={'color': '#34568B'}, line_kws={'color': '#650021'})\n",
    "\n",
    "plt.show()"
   ]
  },
  {
   "cell_type": "code",
   "execution_count": 19,
   "id": "disabled-redhead",
   "metadata": {
    "papermill": {
     "duration": 0.344271,
     "end_time": "2021-06-24T10:17:41.989375",
     "exception": false,
     "start_time": "2021-06-24T10:17:41.645104",
     "status": "completed"
    },
    "tags": []
   },
   "outputs": [
    {
     "data": {
      "image/png": "[encoded data removed]",
      "text/plain": [
       "<Figure size 864x576 with 1 Axes>"
      ]
     },
     "metadata": {},
     "output_type": "display_data"
    }
   ],
   "source": [
    "%matplotlib inline\n",
    "\n",
    "plt.style.use('seaborn')\n",
    "plt.figure(2, figsize=(12,8))\n",
    "\n",
    "plt.scatter(plastic_waste['GDP per capita in PPP'], plastic_waste['Waste per person(kg/day)'])\n",
    "plt.title('Waste Generated by GDP', loc='center')\n",
    "plt.ylabel('Waste per person(kg/day)')\n",
    "plt.xlabel('GDP per capita in PPP')\n",
    "\n",
    "sns.regplot(x=plastic_waste['GDP per capita in PPP'], y=plastic_waste['Waste per person(kg/day)'],\n",
    "           scatter_kws={'color': '#CD212A'}, line_kws={'color': '#380282'})\n",
    "\n",
    "plt.show()"
   ]
  },
  {
   "cell_type": "markdown",
   "id": "formal-protection",
   "metadata": {
    "papermill": {
     "duration": 0.02364,
     "end_time": "2021-06-24T10:17:42.037279",
     "exception": false,
     "start_time": "2021-06-24T10:17:42.013639",
     "status": "completed"
    },
    "tags": []
   },
   "source": [
    "## By the above presented graphs it can be seen that:<br>\n",
    "<ul><li>Mismanaged waste <b><u>does not</u></b> increase with an increase in entity's GDP per capita.\n",
    "        Hence, the evidence is enough to reject the claim.</li><br>\n",
    "    <li>Generated waste <b><i><u>tend to</u></i></b> increase with entity's GDP per capita.\n",
    "            Hence, there is enough evidence to support the claim.</li></ul>"
   ]
  },
  {
   "cell_type": "code",
   "execution_count": 20,
   "id": "polyphonic-relative",
   "metadata": {
    "papermill": {
     "duration": 0.030538,
     "end_time": "2021-06-24T10:17:42.092203",
     "exception": false,
     "start_time": "2021-06-24T10:17:42.061665",
     "status": "completed"
    },
    "tags": []
   },
   "outputs": [],
   "source": [
    "# creating a CSV file of the cleaned data\n",
    "plastic_waste.to_csv('plastic_waste.csv')"
   ]
  },
  {
   "cell_type": "markdown",
   "id": "8bae80cd-7187-43ae-a389-1e54df81f387",
   "metadata": {
    "papermill": {
     "duration": 0.024439,
     "end_time": "2021-06-24T10:17:42.141103",
     "exception": false,
     "start_time": "2021-06-24T10:17:42.116664",
     "status": "completed"
    },
    "tags": []
   },
   "source": [
    "## finished"
   ]
  },
  {
   "cell_type": "code",
   "execution_count": null,
   "id": "0c9b92ed-247f-4ee7-af09-44f0894cac5f",
   "metadata": {},
   "outputs": [],
   "source": []
  }
 ],
 "metadata": {
  "kernelspec": {
   "display_name": "Python 3",
   "language": "python",
   "name": "python3"
  },
  "language_info": {
   "codemirror_mode": {
    "name": "ipython",
    "version": 3
   },
   "file_extension": ".py",
   "mimetype": "text/x-python",
   "name": "python",
   "nbconvert_exporter": "python",
   "pygments_lexer": "ipython3",
   "version": "3.8.8"
  },
  "papermill": {
   "default_parameters": {},
   "duration": 11.578628,
   "end_time": "2021-06-24T10:17:42.878289",
   "environment_variables": {},
   "exception": null,
   "input_path": "__notebook__.ipynb",
   "output_path": "__notebook__.ipynb",
   "parameters": {},
   "start_time": "2021-06-24T10:17:31.299661",
   "version": "2.3.3"
  }
 },
 "nbformat": 4,
 "nbformat_minor": 5
}
